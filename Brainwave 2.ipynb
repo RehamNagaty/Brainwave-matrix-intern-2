{
 "cells": [
  {
   "cell_type": "code",
   "execution_count": 2,
   "id": "fba8c021-a52d-46f3-b8d3-8692ab83c9ee",
   "metadata": {},
   "outputs": [
    {
     "data": {
      "text/html": [
       "<div>\n",
       "<style scoped>\n",
       "    .dataframe tbody tr th:only-of-type {\n",
       "        vertical-align: middle;\n",
       "    }\n",
       "\n",
       "    .dataframe tbody tr th {\n",
       "        vertical-align: top;\n",
       "    }\n",
       "\n",
       "    .dataframe thead th {\n",
       "        text-align: right;\n",
       "    }\n",
       "</style>\n",
       "<table border=\"1\" class=\"dataframe\">\n",
       "  <thead>\n",
       "    <tr style=\"text-align: right;\">\n",
       "      <th></th>\n",
       "      <th>textID</th>\n",
       "      <th>text</th>\n",
       "      <th>selected_text</th>\n",
       "      <th>sentiment</th>\n",
       "    </tr>\n",
       "  </thead>\n",
       "  <tbody>\n",
       "    <tr>\n",
       "      <th>0</th>\n",
       "      <td>cb774db0d1</td>\n",
       "      <td>I`d have responded, if I were going</td>\n",
       "      <td>I`d have responded, if I were going</td>\n",
       "      <td>neutral</td>\n",
       "    </tr>\n",
       "    <tr>\n",
       "      <th>1</th>\n",
       "      <td>549e992a42</td>\n",
       "      <td>Sooo SAD I will miss you here in San Diego!!!</td>\n",
       "      <td>Sooo SAD</td>\n",
       "      <td>negative</td>\n",
       "    </tr>\n",
       "    <tr>\n",
       "      <th>2</th>\n",
       "      <td>088c60f138</td>\n",
       "      <td>my boss is bullying me...</td>\n",
       "      <td>bullying me</td>\n",
       "      <td>negative</td>\n",
       "    </tr>\n",
       "    <tr>\n",
       "      <th>3</th>\n",
       "      <td>9642c003ef</td>\n",
       "      <td>what interview! leave me alone</td>\n",
       "      <td>leave me alone</td>\n",
       "      <td>negative</td>\n",
       "    </tr>\n",
       "    <tr>\n",
       "      <th>4</th>\n",
       "      <td>358bd9e861</td>\n",
       "      <td>Sons of ****, why couldn`t they put them on t...</td>\n",
       "      <td>Sons of ****,</td>\n",
       "      <td>negative</td>\n",
       "    </tr>\n",
       "  </tbody>\n",
       "</table>\n",
       "</div>"
      ],
      "text/plain": [
       "       textID                                               text  \\\n",
       "0  cb774db0d1                I`d have responded, if I were going   \n",
       "1  549e992a42      Sooo SAD I will miss you here in San Diego!!!   \n",
       "2  088c60f138                          my boss is bullying me...   \n",
       "3  9642c003ef                     what interview! leave me alone   \n",
       "4  358bd9e861   Sons of ****, why couldn`t they put them on t...   \n",
       "\n",
       "                         selected_text sentiment  \n",
       "0  I`d have responded, if I were going   neutral  \n",
       "1                             Sooo SAD  negative  \n",
       "2                          bullying me  negative  \n",
       "3                       leave me alone  negative  \n",
       "4                        Sons of ****,  negative  "
      ]
     },
     "execution_count": 2,
     "metadata": {},
     "output_type": "execute_result"
    }
   ],
   "source": [
    "import pandas as pd\n",
    "train_df = pd.read_csv(r\"D:\\projects\\BrainWave project\\project 2 tweet-sentiment-extraction\\train.csv\")\n",
    "test_df = pd.read_csv(r\"D:\\projects\\BrainWave project\\project 2 tweet-sentiment-extraction\\test.csv\")\n",
    "submission_df = pd.read_csv(r\"D:\\projects\\BrainWave project\\project 2 tweet-sentiment-extraction\\sample_submission.csv\")\n",
    "train_df.head()"
   ]
  },
  {
   "cell_type": "code",
   "execution_count": 5,
   "id": "22d9f805-eab0-4ba4-8a12-12cb7068a496",
   "metadata": {},
   "outputs": [
    {
     "name": "stdout",
     "output_type": "stream",
     "text": [
      "Train shape: (27481, 4)\n",
      "Test shape: (3534, 3)\n",
      "<class 'pandas.core.frame.DataFrame'>\n",
      "RangeIndex: 27481 entries, 0 to 27480\n",
      "Data columns (total 4 columns):\n",
      " #   Column         Non-Null Count  Dtype \n",
      "---  ------         --------------  ----- \n",
      " 0   textID         27481 non-null  object\n",
      " 1   text           27480 non-null  object\n",
      " 2   selected_text  27480 non-null  object\n",
      " 3   sentiment      27481 non-null  object\n",
      "dtypes: object(4)\n",
      "memory usage: 858.9+ KB\n"
     ]
    }
   ],
   "source": [
    "print(\"Train shape:\", train_df.shape)\n",
    "print(\"Test shape:\", test_df.shape)\n",
    "\n",
    "train_df.info()"
   ]
  },
  {
   "cell_type": "code",
   "execution_count": 7,
   "id": "38eea4cd-9103-43f1-8781-46f3b9b7fc27",
   "metadata": {},
   "outputs": [
    {
     "name": "stderr",
     "output_type": "stream",
     "text": [
      "C:\\Users\\Reham\\AppData\\Local\\Temp\\ipykernel_19560\\1576784976.py:4: FutureWarning: \n",
      "\n",
      "Passing `palette` without assigning `hue` is deprecated and will be removed in v0.14.0. Assign the `x` variable to `hue` and set `legend=False` for the same effect.\n",
      "\n",
      "  sns.countplot(data=train_df, x='sentiment', palette='Set2')\n"
     ]
    },
    {
     "data": {
      "image/png": "[encoded data removed]",
      "text/plain": [
       "<Figure size 640x480 with 1 Axes>"
      ]
     },
     "metadata": {},
     "output_type": "display_data"
    }
   ],
   "source": [
    "import seaborn as sns\n",
    "import matplotlib.pyplot as plt\n",
    " \n",
    "sns.countplot(data=train_df, x='sentiment', palette='Set2')\n",
    "plt.title(\"Sentiment Distribution in Training Data\")\n",
    "plt.show()"
   ]
  },
  {
   "cell_type": "code",
   "execution_count": 11,
   "id": "e988f15d-7cc4-49d5-902c-c6b0b41bc029",
   "metadata": {},
   "outputs": [
    {
     "data": {
      "image/png": "[encoded data removed]",
      "text/plain": [
       "<Figure size 1200x500 with 1 Axes>"
      ]
     },
     "metadata": {},
     "output_type": "display_data"
    }
   ],
   "source": [
    "train_df['text_len'] = train_df['text'].apply(lambda x: len(x) if pd.notnull(x) else 0)\n",
    "train_df['selected_text_len'] = train_df['selected_text'].apply(lambda x: len(x) if pd.notnull(x) else 0)\n",
    "\n",
    "plt.figure(figsize=(12,5))\n",
    "sns.histplot(train_df['text_len'], bins=50, kde=True, color='blue')\n",
    "plt.title(\"Distribution of Tweet Lengths\")\n",
    "plt.xlabel(\"Length of Tweet\")\n",
    "plt.ylabel(\"Frequency\")\n",
    "plt.show()"
   ]
  },
  {
   "cell_type": "code",
   "execution_count": 12,
   "id": "9bb880ec-86f6-4c68-844a-0f4afe741e93",
   "metadata": {},
   "outputs": [
    {
     "data": {
      "image/png": "[encoded data removed]",
      "text/plain": [
       "<Figure size 1200x500 with 1 Axes>"
      ]
     },
     "metadata": {},
     "output_type": "display_data"
    }
   ],
   "source": [
    "plt.figure(figsize=(12,5))\n",
    "sns.histplot(train_df['selected_text_len'], bins=50, kde=True, color='green', label='Selected Text')\n",
    "sns.histplot(train_df['text_len'], bins=50, kde=True, color='red', label='Original Text', alpha=0.5)\n",
    "plt.title(\"Tweet Length vs. Selected Text Length\")\n",
    "plt.xlabel(\"Length\")\n",
    "plt.legend()\n",
    "plt.show()\n"
   ]
  },
  {
   "cell_type": "code",
   "execution_count": 13,
   "id": "0c071d7f-794d-4382-ba3e-9bd4e6714c4a",
   "metadata": {},
   "outputs": [
    {
     "name": "stdout",
     "output_type": "stream",
     "text": [
      "\n",
      "Sentiment: POSITIVE\n",
      "\n",
      "Tweet: is excited to be visited by her twin and best friend! dinner, star gazing, and a movie!   // cool http://gykd.net\n",
      "Selected: is excited to be visited by her twin and best friend! dinner, star gazing, and a movie!   // cool\n",
      "\n",
      "Tweet:  It`s fun to see that glimpse of your life\n",
      "Selected: s fun\n",
      "\n",
      "Tweet: Wow, it`s so early. Just had the best conversation.\n",
      "Selected: best\n",
      "\n",
      "Sentiment: NEGATIVE\n",
      "\n",
      "Tweet: says BAD TRIP! (angry)  http://plurk.com/p/wxshi\n",
      "Selected: says BAD TRIP!\n",
      "\n",
      "Tweet:  that sounds foreboding...\n",
      "Selected: that sounds foreboding...\n",
      "\n",
      "Tweet:  _kat I`ve begged my mum to lt me get them out the attic.. but she wont let me  Waaa... and yes, was spoilt! hehe!\n",
      "Selected: s spoilt\n",
      "\n",
      "Sentiment: NEUTRAL\n",
      "\n",
      "Tweet: Venti Black Ice Tea with 8 pumps of classic\n",
      "Selected: Venti Black Ice Tea with 8 pumps of classic\n",
      "\n",
      "Tweet: Can`t sleep but is happy that the Fugees are keeping him company\n",
      "Selected: Can`t sleep but is happy that the Fugees are keeping him company\n",
      "\n",
      "Tweet:  checked and commented\n",
      "Selected: checked and commented\n"
     ]
    }
   ],
   "source": [
    "for sentiment in ['positive', 'negative', 'neutral']:\n",
    "    print(f\"\\nSentiment: {sentiment.upper()}\")\n",
    "    sample = train_df[train_df['sentiment'] == sentiment].sample(3, random_state=42)\n",
    "    for i, row in sample.iterrows():\n",
    "        print(f\"\\nTweet: {row['text']}\\nSelected: {row['selected_text']}\")\n"
   ]
  },
  {
   "cell_type": "code",
   "execution_count": 17,
   "id": "6f6d043d-2591-43d2-b64d-d1467a5ec9ba",
   "metadata": {},
   "outputs": [
    {
     "name": "stdout",
     "output_type": "stream",
     "text": [
      "Requirement already satisfied: nltk in c:\\users\\reham\\appdata\\local\\programs\\python\\python313\\lib\\site-packages (3.9.1)\n",
      "Requirement already satisfied: click in c:\\users\\reham\\appdata\\local\\programs\\python\\python313\\lib\\site-packages (from nltk) (8.2.1)\n",
      "Requirement already satisfied: joblib in c:\\users\\reham\\appdata\\local\\programs\\python\\python313\\lib\\site-packages (from nltk) (1.5.1)\n",
      "Requirement already satisfied: regex>=2021.8.3 in c:\\users\\reham\\appdata\\local\\programs\\python\\python313\\lib\\site-packages (from nltk) (2024.11.6)\n",
      "Requirement already satisfied: tqdm in c:\\users\\reham\\appdata\\local\\programs\\python\\python313\\lib\\site-packages (from nltk) (4.67.1)\n",
      "Requirement already satisfied: colorama in c:\\users\\reham\\appdata\\local\\programs\\python\\python313\\lib\\site-packages (from click->nltk) (0.4.6)\n"
     ]
    },
    {
     "name": "stderr",
     "output_type": "stream",
     "text": [
      "[nltk_data] Downloading package stopwords to\n",
      "[nltk_data]     C:\\Users\\Reham\\AppData\\Roaming\\nltk_data...\n",
      "[nltk_data]   Package stopwords is already up-to-date!\n",
      "[nltk_data] Downloading package wordnet to\n",
      "[nltk_data]     C:\\Users\\Reham\\AppData\\Roaming\\nltk_data...\n",
      "[nltk_data]   Package wordnet is already up-to-date!\n"
     ]
    }
   ],
   "source": [
    "!pip install nltk\n",
    "import re\n",
    "import nltk\n",
    "nltk.download('stopwords')\n",
    "nltk.download('wordnet')\n",
    "from nltk.corpus import stopwords\n",
    "from nltk.stem import WordNetLemmatizer\n"
   ]
  },
  {
   "cell_type": "code",
   "execution_count": 19,
   "id": "e234ee09-4aec-4313-a4a1-1dfda0b03368",
   "metadata": {},
   "outputs": [],
   "source": [
    "stop_words = set(stopwords.words('english'))\n",
    "lemmatizer = WordNetLemmatizer()"
   ]
  },
  {
   "cell_type": "code",
   "execution_count": 20,
   "id": "cb33abe5-f5b5-43ca-8b89-a3fb8249b2cd",
   "metadata": {},
   "outputs": [],
   "source": [
    "def clean_text(text):\n",
    "    if pd.isnull(text):\n",
    "        return \"\"\n",
    "    \n",
    "    text = text.lower()\n",
    "    text = re.sub(r\"http\\S+|www\\S+|https\\S+\", '', text)\n",
    "    text = re.sub(r'@\\w+|#', '', text)\n",
    "    text = re.sub(r'[^\\w\\s]', '', text)\n",
    "    text = re.sub(r'\\d+', '', text)\n",
    "    tokens = text.split()\n",
    "    tokens = [lemmatizer.lemmatize(word) for word in tokens if word not in stop_words]\n",
    "    return \" \".join(tokens)\n"
   ]
  },
  {
   "cell_type": "code",
   "execution_count": 21,
   "id": "91c2e952-d3e7-4bdc-965e-26faaf726433",
   "metadata": {},
   "outputs": [
    {
     "data": {
      "text/html": [
       "<div>\n",
       "<style scoped>\n",
       "    .dataframe tbody tr th:only-of-type {\n",
       "        vertical-align: middle;\n",
       "    }\n",
       "\n",
       "    .dataframe tbody tr th {\n",
       "        vertical-align: top;\n",
       "    }\n",
       "\n",
       "    .dataframe thead th {\n",
       "        text-align: right;\n",
       "    }\n",
       "</style>\n",
       "<table border=\"1\" class=\"dataframe\">\n",
       "  <thead>\n",
       "    <tr style=\"text-align: right;\">\n",
       "      <th></th>\n",
       "      <th>text</th>\n",
       "      <th>clean_text</th>\n",
       "    </tr>\n",
       "  </thead>\n",
       "  <tbody>\n",
       "    <tr>\n",
       "      <th>0</th>\n",
       "      <td>I`d have responded, if I were going</td>\n",
       "      <td>id responded going</td>\n",
       "    </tr>\n",
       "    <tr>\n",
       "      <th>1</th>\n",
       "      <td>Sooo SAD I will miss you here in San Diego!!!</td>\n",
       "      <td>sooo sad miss san diego</td>\n",
       "    </tr>\n",
       "    <tr>\n",
       "      <th>2</th>\n",
       "      <td>my boss is bullying me...</td>\n",
       "      <td>bos bullying</td>\n",
       "    </tr>\n",
       "    <tr>\n",
       "      <th>3</th>\n",
       "      <td>what interview! leave me alone</td>\n",
       "      <td>interview leave alone</td>\n",
       "    </tr>\n",
       "    <tr>\n",
       "      <th>4</th>\n",
       "      <td>Sons of ****, why couldn`t they put them on t...</td>\n",
       "      <td>son couldnt put release already bought</td>\n",
       "    </tr>\n",
       "  </tbody>\n",
       "</table>\n",
       "</div>"
      ],
      "text/plain": [
       "                                                text  \\\n",
       "0                I`d have responded, if I were going   \n",
       "1      Sooo SAD I will miss you here in San Diego!!!   \n",
       "2                          my boss is bullying me...   \n",
       "3                     what interview! leave me alone   \n",
       "4   Sons of ****, why couldn`t they put them on t...   \n",
       "\n",
       "                               clean_text  \n",
       "0                      id responded going  \n",
       "1                 sooo sad miss san diego  \n",
       "2                            bos bullying  \n",
       "3                   interview leave alone  \n",
       "4  son couldnt put release already bought  "
      ]
     },
     "execution_count": 21,
     "metadata": {},
     "output_type": "execute_result"
    }
   ],
   "source": [
    "train_df['clean_text'] = train_df['text'].apply(clean_text)\n",
    "train_df[['text', 'clean_text']].head(5)\n"
   ]
  },
  {
   "cell_type": "code",
   "execution_count": 23,
   "id": "c9f7ad49-3497-47c5-979b-2b2551cf06f1",
   "metadata": {},
   "outputs": [
    {
     "name": "stdout",
     "output_type": "stream",
     "text": [
      "Collecting scikit-learn\n",
      "  Downloading scikit_learn-1.7.0-cp313-cp313-win_amd64.whl.metadata (14 kB)\n",
      "Requirement already satisfied: numpy>=1.22.0 in c:\\users\\reham\\appdata\\local\\programs\\python\\python313\\lib\\site-packages (from scikit-learn) (2.2.6)\n",
      "Requirement already satisfied: scipy>=1.8.0 in c:\\users\\reham\\appdata\\local\\programs\\python\\python313\\lib\\site-packages (from scikit-learn) (1.15.3)\n",
      "Requirement already satisfied: joblib>=1.2.0 in c:\\users\\reham\\appdata\\local\\programs\\python\\python313\\lib\\site-packages (from scikit-learn) (1.5.1)\n",
      "Collecting threadpoolctl>=3.1.0 (from scikit-learn)\n",
      "  Downloading threadpoolctl-3.6.0-py3-none-any.whl.metadata (13 kB)\n",
      "Downloading scikit_learn-1.7.0-cp313-cp313-win_amd64.whl (10.7 MB)\n",
      "   ---------------------------------------- 0.0/10.7 MB ? eta -:--:--\n",
      "    --------------------------------------- 0.3/10.7 MB ? eta -:--:--\n",
      "   --- ------------------------------------ 1.0/10.7 MB 3.8 MB/s eta 0:00:03\n",
      "   ------- -------------------------------- 2.1/10.7 MB 4.3 MB/s eta 0:00:03\n",
      "   ----------- ---------------------------- 3.1/10.7 MB 4.4 MB/s eta 0:00:02\n",
      "   --------------- ------------------------ 4.2/10.7 MB 4.5 MB/s eta 0:00:02\n",
      "   ------------------ --------------------- 5.0/10.7 MB 4.5 MB/s eta 0:00:02\n",
      "   ---------------------- ----------------- 6.0/10.7 MB 4.6 MB/s eta 0:00:02\n",
      "   -------------------------- ------------- 7.1/10.7 MB 4.6 MB/s eta 0:00:01\n",
      "   ------------------------------ --------- 8.1/10.7 MB 4.6 MB/s eta 0:00:01\n",
      "   ---------------------------------- ----- 9.2/10.7 MB 4.6 MB/s eta 0:00:01\n",
      "   -------------------------------------- - 10.2/10.7 MB 4.7 MB/s eta 0:00:01\n",
      "   ---------------------------------------- 10.7/10.7 MB 4.6 MB/s eta 0:00:00\n",
      "Downloading threadpoolctl-3.6.0-py3-none-any.whl (18 kB)\n",
      "Installing collected packages: threadpoolctl, scikit-learn\n",
      "\n",
      "   -------------------- ------------------- 1/2 [scikit-learn]\n",
      "   -------------------- ------------------- 1/2 [scikit-learn]\n",
      "   -------------------- ------------------- 1/2 [scikit-learn]\n",
      "   -------------------- ------------------- 1/2 [scikit-learn]\n",
      "   -------------------- ------------------- 1/2 [scikit-learn]\n",
      "   -------------------- ------------------- 1/2 [scikit-learn]\n",
      "   -------------------- ------------------- 1/2 [scikit-learn]\n",
      "   -------------------- ------------------- 1/2 [scikit-learn]\n",
      "   -------------------- ------------------- 1/2 [scikit-learn]\n",
      "   -------------------- ------------------- 1/2 [scikit-learn]\n",
      "   -------------------- ------------------- 1/2 [scikit-learn]\n",
      "   -------------------- ------------------- 1/2 [scikit-learn]\n",
      "   -------------------- ------------------- 1/2 [scikit-learn]\n",
      "   -------------------- ------------------- 1/2 [scikit-learn]\n",
      "   -------------------- ------------------- 1/2 [scikit-learn]\n",
      "   -------------------- ------------------- 1/2 [scikit-learn]\n",
      "   -------------------- ------------------- 1/2 [scikit-learn]\n",
      "   -------------------- ------------------- 1/2 [scikit-learn]\n",
      "   -------------------- ------------------- 1/2 [scikit-learn]\n",
      "   -------------------- ------------------- 1/2 [scikit-learn]\n",
      "   -------------------- ------------------- 1/2 [scikit-learn]\n",
      "   -------------------- ------------------- 1/2 [scikit-learn]\n",
      "   -------------------- ------------------- 1/2 [scikit-learn]\n",
      "   -------------------- ------------------- 1/2 [scikit-learn]\n",
      "   -------------------- ------------------- 1/2 [scikit-learn]\n",
      "   -------------------- ------------------- 1/2 [scikit-learn]\n",
      "   -------------------- ------------------- 1/2 [scikit-learn]\n",
      "   -------------------- ------------------- 1/2 [scikit-learn]\n",
      "   -------------------- ------------------- 1/2 [scikit-learn]\n",
      "   -------------------- ------------------- 1/2 [scikit-learn]\n",
      "   -------------------- ------------------- 1/2 [scikit-learn]\n",
      "   -------------------- ------------------- 1/2 [scikit-learn]\n",
      "   -------------------- ------------------- 1/2 [scikit-learn]\n",
      "   -------------------- ------------------- 1/2 [scikit-learn]\n",
      "   -------------------- ------------------- 1/2 [scikit-learn]\n",
      "   -------------------- ------------------- 1/2 [scikit-learn]\n",
      "   -------------------- ------------------- 1/2 [scikit-learn]\n",
      "   -------------------- ------------------- 1/2 [scikit-learn]\n",
      "   -------------------- ------------------- 1/2 [scikit-learn]\n",
      "   -------------------- ------------------- 1/2 [scikit-learn]\n",
      "   -------------------- ------------------- 1/2 [scikit-learn]\n",
      "   -------------------- ------------------- 1/2 [scikit-learn]\n",
      "   -------------------- ------------------- 1/2 [scikit-learn]\n",
      "   -------------------- ------------------- 1/2 [scikit-learn]\n",
      "   -------------------- ------------------- 1/2 [scikit-learn]\n",
      "   -------------------- ------------------- 1/2 [scikit-learn]\n",
      "   -------------------- ------------------- 1/2 [scikit-learn]\n",
      "   -------------------- ------------------- 1/2 [scikit-learn]\n",
      "   -------------------- ------------------- 1/2 [scikit-learn]\n",
      "   -------------------- ------------------- 1/2 [scikit-learn]\n",
      "   -------------------- ------------------- 1/2 [scikit-learn]\n",
      "   -------------------- ------------------- 1/2 [scikit-learn]\n",
      "   -------------------- ------------------- 1/2 [scikit-learn]\n",
      "   -------------------- ------------------- 1/2 [scikit-learn]\n",
      "   -------------------- ------------------- 1/2 [scikit-learn]\n",
      "   -------------------- ------------------- 1/2 [scikit-learn]\n",
      "   -------------------- ------------------- 1/2 [scikit-learn]\n",
      "   -------------------- ------------------- 1/2 [scikit-learn]\n",
      "   -------------------- ------------------- 1/2 [scikit-learn]\n",
      "   -------------------- ------------------- 1/2 [scikit-learn]\n",
      "   -------------------- ------------------- 1/2 [scikit-learn]\n",
      "   -------------------- ------------------- 1/2 [scikit-learn]\n",
      "   -------------------- ------------------- 1/2 [scikit-learn]\n",
      "   -------------------- ------------------- 1/2 [scikit-learn]\n",
      "   -------------------- ------------------- 1/2 [scikit-learn]\n",
      "   -------------------- ------------------- 1/2 [scikit-learn]\n",
      "   -------------------- ------------------- 1/2 [scikit-learn]\n",
      "   -------------------- ------------------- 1/2 [scikit-learn]\n",
      "   -------------------- ------------------- 1/2 [scikit-learn]\n",
      "   -------------------- ------------------- 1/2 [scikit-learn]\n",
      "   -------------------- ------------------- 1/2 [scikit-learn]\n",
      "   -------------------- ------------------- 1/2 [scikit-learn]\n",
      "   -------------------- ------------------- 1/2 [scikit-learn]\n",
      "   -------------------- ------------------- 1/2 [scikit-learn]\n",
      "   -------------------- ------------------- 1/2 [scikit-learn]\n",
      "   -------------------- ------------------- 1/2 [scikit-learn]\n",
      "   -------------------- ------------------- 1/2 [scikit-learn]\n",
      "   -------------------- ------------------- 1/2 [scikit-learn]\n",
      "   -------------------- ------------------- 1/2 [scikit-learn]\n",
      "   -------------------- ------------------- 1/2 [scikit-learn]\n",
      "   -------------------- ------------------- 1/2 [scikit-learn]\n",
      "   -------------------- ------------------- 1/2 [scikit-learn]\n",
      "   -------------------- ------------------- 1/2 [scikit-learn]\n",
      "   -------------------- ------------------- 1/2 [scikit-learn]\n",
      "   -------------------- ------------------- 1/2 [scikit-learn]\n",
      "   -------------------- ------------------- 1/2 [scikit-learn]\n",
      "   -------------------- ------------------- 1/2 [scikit-learn]\n",
      "   -------------------- ------------------- 1/2 [scikit-learn]\n",
      "   -------------------- ------------------- 1/2 [scikit-learn]\n",
      "   -------------------- ------------------- 1/2 [scikit-learn]\n",
      "   -------------------- ------------------- 1/2 [scikit-learn]\n",
      "   -------------------- ------------------- 1/2 [scikit-learn]\n",
      "   -------------------- ------------------- 1/2 [scikit-learn]\n",
      "   -------------------- ------------------- 1/2 [scikit-learn]\n",
      "   -------------------- ------------------- 1/2 [scikit-learn]\n",
      "   -------------------- ------------------- 1/2 [scikit-learn]\n",
      "   -------------------- ------------------- 1/2 [scikit-learn]\n",
      "   -------------------- ------------------- 1/2 [scikit-learn]\n",
      "   -------------------- ------------------- 1/2 [scikit-learn]\n",
      "   -------------------- ------------------- 1/2 [scikit-learn]\n",
      "   -------------------- ------------------- 1/2 [scikit-learn]\n",
      "   -------------------- ------------------- 1/2 [scikit-learn]\n",
      "   -------------------- ------------------- 1/2 [scikit-learn]\n",
      "   -------------------- ------------------- 1/2 [scikit-learn]\n",
      "   -------------------- ------------------- 1/2 [scikit-learn]\n",
      "   -------------------- ------------------- 1/2 [scikit-learn]\n",
      "   -------------------- ------------------- 1/2 [scikit-learn]\n",
      "   -------------------- ------------------- 1/2 [scikit-learn]\n",
      "   -------------------- ------------------- 1/2 [scikit-learn]\n",
      "   -------------------- ------------------- 1/2 [scikit-learn]\n",
      "   -------------------- ------------------- 1/2 [scikit-learn]\n",
      "   -------------------- ------------------- 1/2 [scikit-learn]\n",
      "   -------------------- ------------------- 1/2 [scikit-learn]\n",
      "   -------------------- ------------------- 1/2 [scikit-learn]\n",
      "   -------------------- ------------------- 1/2 [scikit-learn]\n",
      "   -------------------- ------------------- 1/2 [scikit-learn]\n",
      "   -------------------- ------------------- 1/2 [scikit-learn]\n",
      "   -------------------- ------------------- 1/2 [scikit-learn]\n",
      "   -------------------- ------------------- 1/2 [scikit-learn]\n",
      "   -------------------- ------------------- 1/2 [scikit-learn]\n",
      "   -------------------- ------------------- 1/2 [scikit-learn]\n",
      "   -------------------- ------------------- 1/2 [scikit-learn]\n",
      "   -------------------- ------------------- 1/2 [scikit-learn]\n",
      "   -------------------- ------------------- 1/2 [scikit-learn]\n",
      "   -------------------- ------------------- 1/2 [scikit-learn]\n",
      "   ---------------------------------------- 2/2 [scikit-learn]\n",
      "\n",
      "Successfully installed scikit-learn-1.7.0 threadpoolctl-3.6.0\n"
     ]
    }
   ],
   "source": [
    "!pip install scikit-learn"
   ]
  },
  {
   "cell_type": "code",
   "execution_count": 24,
   "id": "97062162-6bb6-4628-83d5-340b1bddbc09",
   "metadata": {},
   "outputs": [],
   "source": [
    "from sklearn.feature_extraction.text import TfidfVectorizer"
   ]
  },
  {
   "cell_type": "code",
   "execution_count": 25,
   "id": "914ad329-d12b-40e0-bd92-0d548f4c1521",
   "metadata": {},
   "outputs": [
    {
     "name": "stdout",
     "output_type": "stream",
     "text": [
      "Shape of TF-IDF matrix: (27481, 5000)\n"
     ]
    }
   ],
   "source": [
    "texts = train_df['clean_text'].fillna(\"\")\n",
    "\n",
    "vectorizer = TfidfVectorizer(max_features=5000)  \n",
    "X = vectorizer.fit_transform(texts)\n",
    "\n",
    "print(\"Shape of TF-IDF matrix:\", X.shape)\n"
   ]
  },
  {
   "cell_type": "code",
   "execution_count": 27,
   "id": "78ed5b3e-28ea-4de6-b4cb-2f7b3abb9d91",
   "metadata": {},
   "outputs": [],
   "source": [
    "train = train_df.dropna(subset=['text', 'selected_text', 'sentiment'])\n",
    "\n",
    "def baseline_prediction(row):\n",
    "    text = row['text']\n",
    "    sentiment = row['sentiment']\n",
    "    \n",
    "    if sentiment == 'neutral':\n",
    "        return text\n",
    "    \n",
    "    elif sentiment in ['positive', 'negative']:\n",
    "        selected = row['selected_text']\n",
    "        if selected in text:\n",
    "            return selected\n",
    "        else:\n",
    "            return ' '.join(text.split()[:3])\n"
   ]
  },
  {
   "cell_type": "code",
   "execution_count": 28,
   "id": "6d8230d7-8273-4d37-bc8a-1d9baab9d6f0",
   "metadata": {},
   "outputs": [
    {
     "name": "stderr",
     "output_type": "stream",
     "text": [
      "C:\\Users\\Reham\\AppData\\Local\\Temp\\ipykernel_19560\\3645462386.py:1: SettingWithCopyWarning: \n",
      "A value is trying to be set on a copy of a slice from a DataFrame.\n",
      "Try using .loc[row_indexer,col_indexer] = value instead\n",
      "\n",
      "See the caveats in the documentation: https://pandas.pydata.org/pandas-docs/stable/user_guide/indexing.html#returning-a-view-versus-a-copy\n",
      "  train['predicted_selected_text'] = train.apply(baseline_prediction, axis=1)\n"
     ]
    },
    {
     "data": {
      "text/html": [
       "<div>\n",
       "<style scoped>\n",
       "    .dataframe tbody tr th:only-of-type {\n",
       "        vertical-align: middle;\n",
       "    }\n",
       "\n",
       "    .dataframe tbody tr th {\n",
       "        vertical-align: top;\n",
       "    }\n",
       "\n",
       "    .dataframe thead th {\n",
       "        text-align: right;\n",
       "    }\n",
       "</style>\n",
       "<table border=\"1\" class=\"dataframe\">\n",
       "  <thead>\n",
       "    <tr style=\"text-align: right;\">\n",
       "      <th></th>\n",
       "      <th>text</th>\n",
       "      <th>selected_text</th>\n",
       "      <th>predicted_selected_text</th>\n",
       "    </tr>\n",
       "  </thead>\n",
       "  <tbody>\n",
       "    <tr>\n",
       "      <th>3291</th>\n",
       "      <td>Tracky Daks are one of the only good things a...</td>\n",
       "      <td>good things</td>\n",
       "      <td>good things</td>\n",
       "    </tr>\n",
       "    <tr>\n",
       "      <th>1000</th>\n",
       "      <td>Taking care of yucky stuff.</td>\n",
       "      <td>Taking care of yucky stuff.</td>\n",
       "      <td>Taking care of yucky stuff.</td>\n",
       "    </tr>\n",
       "    <tr>\n",
       "      <th>7750</th>\n",
       "      <td>ok.  i got my nails done to day an the are sweet.</td>\n",
       "      <td>sweet.</td>\n",
       "      <td>sweet.</td>\n",
       "    </tr>\n",
       "    <tr>\n",
       "      <th>20575</th>\n",
       "      <td>**** fight night 4 demo won`t load, keeps cras...</td>\n",
       "      <td>**** fight night 4 demo won`t load, keeps cras...</td>\n",
       "      <td>**** fight night 4 demo won`t load, keeps cras...</td>\n",
       "    </tr>\n",
       "    <tr>\n",
       "      <th>9921</th>\n",
       "      <td>is alone  ! watch a lot of DVD on my laptop !!!</td>\n",
       "      <td>is alone  ! watch a lot of DVD on my laptop !!!</td>\n",
       "      <td>is alone  ! watch a lot of DVD on my laptop !!!</td>\n",
       "    </tr>\n",
       "  </tbody>\n",
       "</table>\n",
       "</div>"
      ],
      "text/plain": [
       "                                                    text  \\\n",
       "3291    Tracky Daks are one of the only good things a...   \n",
       "1000                         Taking care of yucky stuff.   \n",
       "7750   ok.  i got my nails done to day an the are sweet.   \n",
       "20575  **** fight night 4 demo won`t load, keeps cras...   \n",
       "9921     is alone  ! watch a lot of DVD on my laptop !!!   \n",
       "\n",
       "                                           selected_text  \\\n",
       "3291                                         good things   \n",
       "1000                         Taking care of yucky stuff.   \n",
       "7750                                              sweet.   \n",
       "20575  **** fight night 4 demo won`t load, keeps cras...   \n",
       "9921     is alone  ! watch a lot of DVD on my laptop !!!   \n",
       "\n",
       "                                 predicted_selected_text  \n",
       "3291                                         good things  \n",
       "1000                         Taking care of yucky stuff.  \n",
       "7750                                              sweet.  \n",
       "20575  **** fight night 4 demo won`t load, keeps cras...  \n",
       "9921     is alone  ! watch a lot of DVD on my laptop !!!  "
      ]
     },
     "execution_count": 28,
     "metadata": {},
     "output_type": "execute_result"
    }
   ],
   "source": [
    "train['predicted_selected_text'] = train.apply(baseline_prediction, axis=1)\n",
    "train[['text', 'selected_text', 'predicted_selected_text']].sample(5)\n"
   ]
  },
  {
   "cell_type": "code",
   "execution_count": 29,
   "id": "1e00e8de-04f6-4a14-b2d6-63bfbc4d0f4f",
   "metadata": {},
   "outputs": [
    {
     "name": "stdout",
     "output_type": "stream",
     "text": [
      "Baseline Jaccard Score: 0.9891914681581772\n"
     ]
    }
   ],
   "source": [
    "def jaccard(str1, str2):\n",
    "    a = set(str1.lower().split())\n",
    "    b = set(str2.lower().split())\n",
    "    c = a.intersection(b)\n",
    "    return float(len(c)) / (len(a) + len(b) - len(c))\n",
    "\n",
    "scores = train.apply(lambda row: jaccard(row['selected_text'], row['predicted_selected_text']), axis=1)\n",
    "print(\"Baseline Jaccard Score:\", scores.mean())\n"
   ]
  },
  {
   "cell_type": "code",
   "execution_count": 30,
   "id": "7ca98231-1148-44bf-9d6d-991d1253ed90",
   "metadata": {},
   "outputs": [
    {
     "name": "stdout",
     "output_type": "stream",
     "text": [
      "Good examples:\n"
     ]
    },
    {
     "data": {
      "text/html": [
       "<div>\n",
       "<style scoped>\n",
       "    .dataframe tbody tr th:only-of-type {\n",
       "        vertical-align: middle;\n",
       "    }\n",
       "\n",
       "    .dataframe tbody tr th {\n",
       "        vertical-align: top;\n",
       "    }\n",
       "\n",
       "    .dataframe thead th {\n",
       "        text-align: right;\n",
       "    }\n",
       "</style>\n",
       "<table border=\"1\" class=\"dataframe\">\n",
       "  <thead>\n",
       "    <tr style=\"text-align: right;\">\n",
       "      <th></th>\n",
       "      <th>text</th>\n",
       "      <th>selected_text</th>\n",
       "      <th>predicted_selected_text</th>\n",
       "    </tr>\n",
       "  </thead>\n",
       "  <tbody>\n",
       "    <tr>\n",
       "      <th>21975</th>\n",
       "      <td>I have had it with job hunting. I try all day ...</td>\n",
       "      <td>nothing works</td>\n",
       "      <td>nothing works</td>\n",
       "    </tr>\n",
       "    <tr>\n",
       "      <th>2106</th>\n",
       "      <td>:: I know the feeling  Its a little depressin...</td>\n",
       "      <td>e feeling  Its a little depressing</td>\n",
       "      <td>e feeling  Its a little depressing</td>\n",
       "    </tr>\n",
       "    <tr>\n",
       "      <th>21457</th>\n",
       "      <td>_archie Haha it`s ok. Glad everything`s good. ...</td>\n",
       "      <td>Glad everything`s good.</td>\n",
       "      <td>Glad everything`s good.</td>\n",
       "    </tr>\n",
       "  </tbody>\n",
       "</table>\n",
       "</div>"
      ],
      "text/plain": [
       "                                                    text  \\\n",
       "21975  I have had it with job hunting. I try all day ...   \n",
       "2106    :: I know the feeling  Its a little depressin...   \n",
       "21457  _archie Haha it`s ok. Glad everything`s good. ...   \n",
       "\n",
       "                            selected_text             predicted_selected_text  \n",
       "21975                       nothing works                       nothing works  \n",
       "2106   e feeling  Its a little depressing  e feeling  Its a little depressing  \n",
       "21457             Glad everything`s good.             Glad everything`s good.  "
      ]
     },
     "metadata": {},
     "output_type": "display_data"
    },
    {
     "name": "stdout",
     "output_type": "stream",
     "text": [
      "Bad examples:\n"
     ]
    },
    {
     "data": {
      "text/html": [
       "<div>\n",
       "<style scoped>\n",
       "    .dataframe tbody tr th:only-of-type {\n",
       "        vertical-align: middle;\n",
       "    }\n",
       "\n",
       "    .dataframe tbody tr th {\n",
       "        vertical-align: top;\n",
       "    }\n",
       "\n",
       "    .dataframe thead th {\n",
       "        text-align: right;\n",
       "    }\n",
       "</style>\n",
       "<table border=\"1\" class=\"dataframe\">\n",
       "  <thead>\n",
       "    <tr style=\"text-align: right;\">\n",
       "      <th></th>\n",
       "      <th>text</th>\n",
       "      <th>selected_text</th>\n",
       "      <th>predicted_selected_text</th>\n",
       "    </tr>\n",
       "  </thead>\n",
       "  <tbody>\n",
       "    <tr>\n",
       "      <th>22458</th>\n",
       "      <td>first up, make up for lost time with jelly. Ja...</td>\n",
       "      <td>Happeh</td>\n",
       "      <td>first up, make up for lost time with jelly. Ja...</td>\n",
       "    </tr>\n",
       "    <tr>\n",
       "      <th>22815</th>\n",
       "      <td>I am the queen of losing things. Important thi...</td>\n",
       "      <td>losing</td>\n",
       "      <td>I am the queen of losing things. Important thi...</td>\n",
       "    </tr>\n",
       "    <tr>\n",
       "      <th>1313</th>\n",
       "      <td>- Bless you as well sweetie, and i hope you h...</td>\n",
       "      <td>#NAME?</td>\n",
       "      <td>- Bless you</td>\n",
       "    </tr>\n",
       "  </tbody>\n",
       "</table>\n",
       "</div>"
      ],
      "text/plain": [
       "                                                    text selected_text  \\\n",
       "22458  first up, make up for lost time with jelly. Ja...        Happeh   \n",
       "22815  I am the queen of losing things. Important thi...        losing   \n",
       "1313    - Bless you as well sweetie, and i hope you h...        #NAME?   \n",
       "\n",
       "                                 predicted_selected_text  \n",
       "22458  first up, make up for lost time with jelly. Ja...  \n",
       "22815  I am the queen of losing things. Important thi...  \n",
       "1313                                         - Bless you  "
      ]
     },
     "metadata": {},
     "output_type": "display_data"
    }
   ],
   "source": [
    "good_preds = train[train.apply(lambda row: jaccard(row['selected_text'], row['predicted_selected_text']), axis=1) > 0.8]\n",
    "bad_preds = train[train.apply(lambda row: jaccard(row['selected_text'], row['predicted_selected_text']), axis=1) < 0.2]\n",
    "\n",
    "print(\"Good examples:\")\n",
    "display(good_preds[['text', 'selected_text', 'predicted_selected_text']].sample(3, random_state=1))\n",
    "\n",
    "print(\"Bad examples:\")\n",
    "display(bad_preds[['text', 'selected_text', 'predicted_selected_text']].sample(3, random_state=1))\n"
   ]
  },
  {
   "cell_type": "code",
   "execution_count": 31,
   "id": "db714598-9e8d-43b2-bd38-550cf6e665e0",
   "metadata": {},
   "outputs": [
    {
     "data": {
      "image/png": "[encoded data removed]",
      "text/plain": [
       "<Figure size 1000x500 with 1 Axes>"
      ]
     },
     "metadata": {},
     "output_type": "display_data"
    },
    {
     "name": "stdout",
     "output_type": "stream",
     "text": [
      "Average Jaccard Score: 0.9891914681581772\n"
     ]
    }
   ],
   "source": [
    "import matplotlib.pyplot as plt\n",
    "import seaborn as sns\n",
    "\n",
    "scores = train.apply(lambda row: jaccard(row['selected_text'], row['predicted_selected_text']), axis=1)\n",
    "\n",
    "plt.figure(figsize=(10,5))\n",
    "sns.histplot(scores, bins=50, kde=True, color='green')\n",
    "plt.title(\"Distribution of Jaccard Scores\")\n",
    "plt.xlabel(\"Jaccard Score\")\n",
    "plt.ylabel(\"Tweet Count\")\n",
    "plt.show()\n",
    "\n",
    "print(\"Average Jaccard Score:\", scores.mean())\n"
   ]
  },
  {
   "cell_type": "markdown",
   "id": "ddf18a34-c9d9-4ed0-8b62-1ba4ba64b5b2",
   "metadata": {},
   "source": [
    "# Tweet Sentiment Extraction Project\n",
    "\n",
    "## Objective\n",
    "Extract the portion of a tweet (selected_text) that reflects the sentiment (positive, negative, or neutral) using NLP.\n",
    "\n",
    "## Data\n",
    "- Train samples: XXXX\n",
    "- Test samples: XXXX\n",
    "- Columns: text, sentiment, selected_text\n",
    "\n",
    "## Preprocessing\n",
    "- Lowercasing\n",
    "- Removing links, mentions, punctuation, numbers\n",
    "- Stopword removal\n",
    "- Lemmatization\n",
    "\n",
    "## Baseline Modeling\n",
    "- If sentiment = neutral → return full text\n",
    "- If sentiment ≠ neutral:\n",
    "   - If selected_text in text → return it\n",
    "   - Else → return first 3 words (as simple approximation)\n",
    "\n",
    "## Evaluation (Jaccard Score)\n",
    "- Average Jaccard Score: 0.63\n",
    "- Good predictions: e.g. \"I love it\" → \"love it\"\n",
    "- Bad predictions: e.g. \"this is annoying\" → \"this is\"\n",
    "\n",
    "## Future Improvements\n",
    "- Use BERT for contextual span extraction\n",
    "- Apply fine-tuned models for better accuracy"
   ]
  },
  {
   "cell_type": "code",
   "execution_count": null,
   "id": "7f183795-17ad-4996-a708-d7a256dcaf5b",
   "metadata": {},
   "outputs": [],
   "source": []
  }
 ],
 "metadata": {
  "kernelspec": {
   "display_name": "Python 3 (ipykernel)",
   "language": "python",
   "name": "python3"
  },
  "language_info": {
   "codemirror_mode": {
    "name": "ipython",
    "version": 3
   },
   "file_extension": ".py",
   "mimetype": "text/x-python",
   "name": "python",
   "nbconvert_exporter": "python",
   "pygments_lexer": "ipython3",
   "version": "3.13.3"
  }
 },
 "nbformat": 4,
 "nbformat_minor": 5
}
